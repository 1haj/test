{
 "cells": [
  {
   "cell_type": "code",
   "execution_count": 2,
   "id": "cf5d171a",
   "metadata": {},
   "outputs": [],
   "source": [
    "%matplotlib inline\n",
    "import numpy as np\n",
    "import pandas as pd\n",
    "import matplotlib.pyplot as plt\n",
    "from pylab import rcParams\n",
    "rcParams['figure.figsize'] = 14, 8"
   ]
  },
  {
   "cell_type": "code",
   "execution_count": 26,
   "id": "c5f646c4",
   "metadata": {},
   "outputs": [],
   "source": [
    "data_path = r\"creditcard.csv\"\n",
    "df = pd.read_csv(data_path)"
   ]
  },
  {
   "cell_type": "code",
   "execution_count": 28,
   "id": "a1cf02b5",
   "metadata": {},
   "outputs": [],
   "source": [
    "anomalies = df[df.Class == 1]\n",
    "normal = df[df.Class == 0]"
   ]
  },
  {
   "cell_type": "code",
   "execution_count": 29,
   "id": "8ab0a0e7",
   "metadata": {},
   "outputs": [
    {
     "data": {
      "text/html": [
       "<div>\n",
       "<style scoped>\n",
       "    .dataframe tbody tr th:only-of-type {\n",
       "        vertical-align: middle;\n",
       "    }\n",
       "\n",
       "    .dataframe tbody tr th {\n",
       "        vertical-align: top;\n",
       "    }\n",
       "\n",
       "    .dataframe thead th {\n",
       "        text-align: right;\n",
       "    }\n",
       "</style>\n",
       "<table border=\"1\" class=\"dataframe\">\n",
       "  <thead>\n",
       "    <tr style=\"text-align: right;\">\n",
       "      <th></th>\n",
       "      <th>Time</th>\n",
       "      <th>V1</th>\n",
       "      <th>V2</th>\n",
       "      <th>V3</th>\n",
       "      <th>V4</th>\n",
       "      <th>V5</th>\n",
       "      <th>V6</th>\n",
       "      <th>V7</th>\n",
       "      <th>V8</th>\n",
       "      <th>V9</th>\n",
       "      <th>...</th>\n",
       "      <th>V21</th>\n",
       "      <th>V22</th>\n",
       "      <th>V23</th>\n",
       "      <th>V24</th>\n",
       "      <th>V25</th>\n",
       "      <th>V26</th>\n",
       "      <th>V27</th>\n",
       "      <th>V28</th>\n",
       "      <th>Amount</th>\n",
       "      <th>Class</th>\n",
       "    </tr>\n",
       "  </thead>\n",
       "  <tbody>\n",
       "    <tr>\n",
       "      <th>0</th>\n",
       "      <td>0.0</td>\n",
       "      <td>-1.359807</td>\n",
       "      <td>-0.072781</td>\n",
       "      <td>2.536347</td>\n",
       "      <td>1.378155</td>\n",
       "      <td>-0.338321</td>\n",
       "      <td>0.462388</td>\n",
       "      <td>0.239599</td>\n",
       "      <td>0.098698</td>\n",
       "      <td>0.363787</td>\n",
       "      <td>...</td>\n",
       "      <td>-0.018307</td>\n",
       "      <td>0.277838</td>\n",
       "      <td>-0.110474</td>\n",
       "      <td>0.066928</td>\n",
       "      <td>0.128539</td>\n",
       "      <td>-0.189115</td>\n",
       "      <td>0.133558</td>\n",
       "      <td>-0.021053</td>\n",
       "      <td>149.62</td>\n",
       "      <td>0</td>\n",
       "    </tr>\n",
       "    <tr>\n",
       "      <th>1</th>\n",
       "      <td>0.0</td>\n",
       "      <td>1.191857</td>\n",
       "      <td>0.266151</td>\n",
       "      <td>0.166480</td>\n",
       "      <td>0.448154</td>\n",
       "      <td>0.060018</td>\n",
       "      <td>-0.082361</td>\n",
       "      <td>-0.078803</td>\n",
       "      <td>0.085102</td>\n",
       "      <td>-0.255425</td>\n",
       "      <td>...</td>\n",
       "      <td>-0.225775</td>\n",
       "      <td>-0.638672</td>\n",
       "      <td>0.101288</td>\n",
       "      <td>-0.339846</td>\n",
       "      <td>0.167170</td>\n",
       "      <td>0.125895</td>\n",
       "      <td>-0.008983</td>\n",
       "      <td>0.014724</td>\n",
       "      <td>2.69</td>\n",
       "      <td>0</td>\n",
       "    </tr>\n",
       "    <tr>\n",
       "      <th>2</th>\n",
       "      <td>1.0</td>\n",
       "      <td>-1.358354</td>\n",
       "      <td>-1.340163</td>\n",
       "      <td>1.773209</td>\n",
       "      <td>0.379780</td>\n",
       "      <td>-0.503198</td>\n",
       "      <td>1.800499</td>\n",
       "      <td>0.791461</td>\n",
       "      <td>0.247676</td>\n",
       "      <td>-1.514654</td>\n",
       "      <td>...</td>\n",
       "      <td>0.247998</td>\n",
       "      <td>0.771679</td>\n",
       "      <td>0.909412</td>\n",
       "      <td>-0.689281</td>\n",
       "      <td>-0.327642</td>\n",
       "      <td>-0.139097</td>\n",
       "      <td>-0.055353</td>\n",
       "      <td>-0.059752</td>\n",
       "      <td>378.66</td>\n",
       "      <td>0</td>\n",
       "    </tr>\n",
       "    <tr>\n",
       "      <th>3</th>\n",
       "      <td>1.0</td>\n",
       "      <td>-0.966272</td>\n",
       "      <td>-0.185226</td>\n",
       "      <td>1.792993</td>\n",
       "      <td>-0.863291</td>\n",
       "      <td>-0.010309</td>\n",
       "      <td>1.247203</td>\n",
       "      <td>0.237609</td>\n",
       "      <td>0.377436</td>\n",
       "      <td>-1.387024</td>\n",
       "      <td>...</td>\n",
       "      <td>-0.108300</td>\n",
       "      <td>0.005274</td>\n",
       "      <td>-0.190321</td>\n",
       "      <td>-1.175575</td>\n",
       "      <td>0.647376</td>\n",
       "      <td>-0.221929</td>\n",
       "      <td>0.062723</td>\n",
       "      <td>0.061458</td>\n",
       "      <td>123.50</td>\n",
       "      <td>0</td>\n",
       "    </tr>\n",
       "  </tbody>\n",
       "</table>\n",
       "<p>4 rows × 31 columns</p>\n",
       "</div>"
      ],
      "text/plain": [
       "   Time        V1        V2        V3        V4        V5        V6        V7  \\\n",
       "0   0.0 -1.359807 -0.072781  2.536347  1.378155 -0.338321  0.462388  0.239599   \n",
       "1   0.0  1.191857  0.266151  0.166480  0.448154  0.060018 -0.082361 -0.078803   \n",
       "2   1.0 -1.358354 -1.340163  1.773209  0.379780 -0.503198  1.800499  0.791461   \n",
       "3   1.0 -0.966272 -0.185226  1.792993 -0.863291 -0.010309  1.247203  0.237609   \n",
       "\n",
       "         V8        V9  ...       V21       V22       V23       V24       V25  \\\n",
       "0  0.098698  0.363787  ... -0.018307  0.277838 -0.110474  0.066928  0.128539   \n",
       "1  0.085102 -0.255425  ... -0.225775 -0.638672  0.101288 -0.339846  0.167170   \n",
       "2  0.247676 -1.514654  ...  0.247998  0.771679  0.909412 -0.689281 -0.327642   \n",
       "3  0.377436 -1.387024  ... -0.108300  0.005274 -0.190321 -1.175575  0.647376   \n",
       "\n",
       "        V26       V27       V28  Amount  Class  \n",
       "0 -0.189115  0.133558 -0.021053  149.62      0  \n",
       "1  0.125895 -0.008983  0.014724    2.69      0  \n",
       "2 -0.139097 -0.055353 -0.059752  378.66      0  \n",
       "3 -0.221929  0.062723  0.061458  123.50      0  \n",
       "\n",
       "[4 rows x 31 columns]"
      ]
     },
     "execution_count": 29,
     "metadata": {},
     "output_type": "execute_result"
    }
   ],
   "source": [
    "df.head(4)"
   ]
  },
  {
   "cell_type": "code",
   "execution_count": 30,
   "id": "d918a0b4",
   "metadata": {},
   "outputs": [
    {
     "name": "stderr",
     "output_type": "stream",
     "text": [
      "C:\\Users\\nosha\\AppData\\Local\\Temp\\ipykernel_10448\\1189189170.py:1: FutureWarning: pandas.value_counts is deprecated and will be removed in a future version. Use pd.Series(obj).value_counts() instead.\n",
      "  class_counts = pd.value_counts(df['Class'], sort = True)\n"
     ]
    },
    {
     "data": {
      "text/plain": [
       "Text(0, 0.5, 'Counts')"
      ]
     },
     "execution_count": 30,
     "metadata": {},
     "output_type": "execute_result"
    },
    {
     "data": {
      "image/png": "[encoded data removed]",
      "text/plain": [
       "<Figure size 1400x800 with 1 Axes>"
      ]
     },
     "metadata": {},
     "output_type": "display_data"
    }
   ],
   "source": [
    "class_counts = pd.value_counts(df['Class'], sort = True)\n",
    "class_counts.plot(kind = 'bar', rot=0)\n",
    "plt.title(\"Class Distribution\")\n",
    "plt.xticks(range(2), [\"Normal\", \"Anomaly\"])\n",
    "plt.xlabel(\"Label\")\n",
    "plt.ylabel(\"Counts\")"
   ]
  },
  {
   "cell_type": "code",
   "execution_count": 33,
   "id": "76c77933",
   "metadata": {},
   "outputs": [
    {
     "data": {
      "text/plain": [
       "count     492.000000\n",
       "mean      122.211321\n",
       "std       256.683288\n",
       "min         0.000000\n",
       "25%         1.000000\n",
       "50%         9.250000\n",
       "75%       105.890000\n",
       "max      2125.870000\n",
       "Name: Amount, dtype: float64"
      ]
     },
     "execution_count": 33,
     "metadata": {},
     "output_type": "execute_result"
    }
   ],
   "source": [
    "anomalies.Amount.describe()"
   ]
  },
  {
   "cell_type": "code",
   "execution_count": 34,
   "id": "e35d8c30",
   "metadata": {},
   "outputs": [
    {
     "data": {
      "text/plain": [
       "count    284315.000000\n",
       "mean         88.291022\n",
       "std         250.105092\n",
       "min           0.000000\n",
       "25%           5.650000\n",
       "50%          22.000000\n",
       "75%          77.050000\n",
       "max       25691.160000\n",
       "Name: Amount, dtype: float64"
      ]
     },
     "execution_count": 34,
     "metadata": {},
     "output_type": "execute_result"
    }
   ],
   "source": [
    "normal.Amount.describe()"
   ]
  },
  {
   "cell_type": "code",
   "execution_count": 36,
   "id": "f3162eb8",
   "metadata": {},
   "outputs": [],
   "source": [
    "def plot_histogram(df, bins, column, log_scale=False):\n",
    "    bins = 100\n",
    "    anomalies = df[df.Class == 1]\n",
    "    normal = df[df.Class == 0]\n",
    "    fig, (ax1, ax2) = plt.subplots(2, 1, sharex=True)\n",
    "    fig.suptitle(f'Counts of {column} by Class')\n",
    "    ax1.hist(anomalies[column], bins = bins, color=\"red\")\n",
    "    ax1.set_title('Anomaly')\n",
    "    ax2.hist(normal[column], bins = bins, color=\"orange\")\n",
    "    ax2.set_title('Normal')\n",
    "    plt.xlabel(f'{column}')\n",
    "    plt.ylabel('Count')\n",
    "    if log_scale:\n",
    "        plt.yscale('log')\n",
    "    plt.xlim((np.min(df[column]), np.max(df[column])))\n",
    "    plt.show()"
   ]
  },
  {
   "cell_type": "code",
   "execution_count": 37,
   "id": "8538bed9",
   "metadata": {},
   "outputs": [],
   "source": [
    "def plot_scatter(df, x_col, y_col, sharey = False):\n",
    "    anomalies = df[df.Class == 1]\n",
    "    normal = df[df.Class == 0]\n",
    "    fig, (ax1, ax2) = plt.subplots(2, 1, sharex=True,\n",
    "    sharey=sharey)\n",
    "    fig.suptitle(f'{y_col} over {x_col} by Class')\n",
    "    ax1.scatter(anomalies[x_col], anomalies[y_col], color='red')\n",
    "    ax1.set_title('Anomaly')\n",
    "    ax2.scatter(normal[x_col], normal[y_col], color='orange')\n",
    "    ax2.set_title('Normal')\n",
    "    plt.xlabel(x_col)\n",
    "    plt.ylabel(y_col)\n",
    "    plt.show()"
   ]
  },
  {
   "cell_type": "code",
   "execution_count": 38,
   "id": "a71f43c2",
   "metadata": {},
   "outputs": [
    {
     "data": {
      "image/png": "[encoded data removed]",
      "text/plain": [
       "<Figure size 1400x800 with 1 Axes>"
      ]
     },
     "metadata": {},
     "output_type": "display_data"
    }
   ],
   "source": [
    "plt.scatter(df.Amount, df.Class)\n",
    "plt.title(\"Transaction Amounts by Class\")\n",
    "plt.ylabel(\"Class\")\n",
    "plt.yticks(range(2), [\"Normal\", \"Anomaly\"])\n",
    "plt.xlabel(\"Transaction Amounts ($)\")\n",
    "plt.show()"
   ]
  },
  {
   "cell_type": "code",
   "execution_count": 39,
   "id": "bbe033bf",
   "metadata": {},
   "outputs": [
    {
     "data": {
      "image/png": "[encoded data removed]",
      "text/plain": [
       "<Figure size 1400x800 with 2 Axes>"
      ]
     },
     "metadata": {},
     "output_type": "display_data"
    }
   ],
   "source": [
    "bins = 100\n",
    "plot_histogram(df, bins, \"Amount\", log_scale=True)"
   ]
  },
  {
   "cell_type": "code",
   "execution_count": 40,
   "id": "1a18561d",
   "metadata": {},
   "outputs": [
    {
     "data": {
      "image/png": "[encoded data removed]",
      "text/plain": [
       "<Figure size 1400x800 with 1 Axes>"
      ]
     },
     "metadata": {},
     "output_type": "display_data"
    }
   ],
   "source": [
    "plt.hist(anomalies.Amount, bins = bins, color=\"red\")\n",
    "plt.show()"
   ]
  },
  {
   "cell_type": "code",
   "execution_count": 41,
   "id": "b0764993",
   "metadata": {},
   "outputs": [
    {
     "data": {
      "image/png": "[encoded data removed]",
      "text/plain": [
       "<Figure size 1400x800 with 1 Axes>"
      ]
     },
     "metadata": {},
     "output_type": "display_data"
    }
   ],
   "source": [
    "plt.scatter(df.Time, df.Class)\n",
    "plt.title(\"Transactions over Time by Class\")\n",
    "plt.ylabel(\"Class\")\n",
    "plt.yticks(range(2), [\"Normal\", \"Anomaly\"])\n",
    "plt.xlabel(\"Time (s)\")\n",
    "plt.show()"
   ]
  },
  {
   "cell_type": "code",
   "execution_count": 46,
   "id": "f54c6e95",
   "metadata": {},
   "outputs": [
    {
     "name": "stdout",
     "output_type": "stream",
     "text": [
      "numpy: 2.2.6\n",
      "pandas: 2.3.1\n",
      "matplotlib: 3.10.5\n",
      "seaborn: 0.13.2\n",
      "sklearn: 1.7.1\n"
     ]
    }
   ],
   "source": [
    "import numpy as np\n",
    "import pandas as pd\n",
    "import matplotlib #\n",
    "import matplotlib.pyplot as plt\n",
    "import seaborn as sns\n",
    "import sklearn #\n",
    "from sklearn.linear_model import LogisticRegression\n",
    "from sklearn.model_selection import train_test_split\n",
    "from sklearn.preprocessing import StandardScaler\n",
    "from sklearn.metrics import roc_auc_score, RocCurveDisplay,confusion_matrix\n",
    "from sklearn.model_selection import KFold\n",
    "print(\"numpy: {}\".format(np.__version__))\n",
    "print(\"pandas: {}\".format(pd.__version__))\n",
    "print(\"matplotlib: {}\".format(matplotlib.__version__))\n",
    "print(\"seaborn: {}\".format(sns.__version__))\n",
    "print(\"sklearn: {}\".format(sklearn.__version__))"
   ]
  },
  {
   "cell_type": "code",
   "execution_count": 50,
   "id": "8d850afa",
   "metadata": {},
   "outputs": [],
   "source": [
    "normal_train, normal_test = train_test_split(normal, test_size= 0.2, random_state = 2020)\n",
    "anomaly_train, anomaly_test = train_test_split(anomalies,test_size = 0.2, random_state = 2020)"
   ]
  },
  {
   "cell_type": "code",
   "execution_count": 53,
   "id": "f3ba7d62",
   "metadata": {},
   "outputs": [],
   "source": [
    "normal_train, normal_validate = train_test_split(normal_train,\n",
    "test_size = 0.25, random_state = 2020)\n",
    "anomaly_train, anomaly_validate = train_test_split(anomaly_train, test_size = 0.25, random_state = 2020)"
   ]
  },
  {
   "cell_type": "code",
   "execution_count": 62,
   "id": "622f8801",
   "metadata": {},
   "outputs": [],
   "source": [
    "x_train = pd.concat((normal_train, anomaly_train))\n",
    "x_test = pd.concat((normal_test, anomaly_test))\n",
    "x_validate = pd.concat((normal_validate, anomaly_validate))"
   ]
  },
  {
   "cell_type": "code",
   "execution_count": 63,
   "id": "d5934d95",
   "metadata": {},
   "outputs": [],
   "source": [
    "y_train = np.array(x_train[\"Class\"])\n",
    "y_test = np.array(x_test[\"Class\"])\n",
    "y_validate = np.array(x_validate[\"Class\"])"
   ]
  },
  {
   "cell_type": "code",
   "execution_count": 65,
   "id": "5522f1da",
   "metadata": {},
   "outputs": [],
   "source": [
    "x_train = x_train.drop(\"Class\", axis=1)\n",
    "x_test = x_test.drop(\"Class\", axis=1)\n",
    "x_validate = x_validate.drop(\"Class\", axis=1)"
   ]
  },
  {
   "cell_type": "code",
   "execution_count": 66,
   "id": "dfc26bd3",
   "metadata": {},
   "outputs": [],
   "source": [
    "scaler = StandardScaler()\n",
    "scaler.fit(pd.concat((normal, anomalies)).drop(\"Class\", axis=1))\n",
    "x_train = scaler.transform(x_train)\n",
    "x_test = scaler.transform(x_test)\n",
    "x_validate = scaler.transform(x_validate)"
   ]
  },
  {
   "cell_type": "code",
   "execution_count": 67,
   "id": "5cb0229f",
   "metadata": {},
   "outputs": [],
   "source": [
    "sk_model = LogisticRegression(random_state=None, max_iter=400,\n",
    "solver='newton-cg').fit(x_train, y_train)"
   ]
  },
  {
   "cell_type": "code",
   "execution_count": 69,
   "id": "9201ec10",
   "metadata": {},
   "outputs": [
    {
     "data": {
      "text/plain": [
       "0.9991397773954567"
      ]
     },
     "execution_count": 69,
     "metadata": {},
     "output_type": "execute_result"
    }
   ],
   "source": [
    "eval_acc = sk_model.score(x_test, y_test)\n",
    "eval_acc\n"
   ]
  },
  {
   "cell_type": "code",
   "execution_count": 70,
   "id": "8cc5a357",
   "metadata": {},
   "outputs": [],
   "source": [
    "preds = sk_model.predict(x_test)\n",
    "auc_score = roc_auc_score(y_test, preds)"
   ]
  },
  {
   "cell_type": "code",
   "execution_count": 71,
   "id": "896becb6",
   "metadata": {},
   "outputs": [
    {
     "name": "stdout",
     "output_type": "stream",
     "text": [
      "Auc Score: 78.782%\n",
      "Eval Accuracy: 99.914%\n"
     ]
    }
   ],
   "source": [
    "print(f\"Auc Score: {auc_score:.3%}\")\n",
    "print(f\"Eval Accuracy: {eval_acc:.3%}\")"
   ]
  },
  {
   "cell_type": "code",
   "execution_count": 74,
   "id": "03a65156",
   "metadata": {},
   "outputs": [
    {
     "data": {
      "text/plain": [
       "array([6.74513110e-05, 8.00354286e-05, 2.28931292e-04, ...,\n",
       "       4.23304931e-02, 3.24562050e-01, 9.99999980e-01], shape=(56962,))"
      ]
     },
     "execution_count": 74,
     "metadata": {},
     "output_type": "execute_result"
    }
   ],
   "source": [
    "y_score = sk_model.predict_proba(x_test)[:, 1] \n",
    "y_score"
   ]
  },
  {
   "cell_type": "code",
   "execution_count": 77,
   "id": "4cdc01bb",
   "metadata": {},
   "outputs": [
    {
     "data": {
      "text/plain": [
       "Text(0.5, 58.7222222222222, 'Predicted')"
      ]
     },
     "execution_count": 77,
     "metadata": {},
     "output_type": "execute_result"
    },
    {
     "data": {
      "image/png": "[encoded data removed]",
      "text/plain": [
       "<Figure size 1400x800 with 2 Axes>"
      ]
     },
     "metadata": {},
     "output_type": "display_data"
    }
   ],
   "source": [
    "conf_matrix = confusion_matrix(y_test, preds)\n",
    "ax = sns.heatmap(conf_matrix, annot=True,fmt='g')\n",
    "ax.invert_xaxis()\n",
    "ax.invert_yaxis()\n",
    "plt.ylabel('Actual')\n",
    "plt.xlabel('Predicted')"
   ]
  },
  {
   "cell_type": "code",
   "execution_count": 78,
   "id": "57f02dc4",
   "metadata": {},
   "outputs": [],
   "source": [
    "anomaly_weights = [1, 5, 10, 15]\n",
    "num_folds = 5\n",
    "kfold = KFold(n_splits=num_folds, shuffle=True,\n",
    "random_state=2020)"
   ]
  },
  {
   "cell_type": "code",
   "execution_count": 84,
   "id": "1e10c851",
   "metadata": {},
   "outputs": [
    {
     "name": "stdout",
     "output_type": "stream",
     "text": [
      "\n",
      "----------------------------------------\n",
      "fold 1, Anomaly Weight: 1\n",
      "eval_acc: 0.9989467216712016, AUC: 0.9917861649650108\n",
      "\n",
      "----------------------------------------\n",
      "fold 2, Anomaly Weight: 1\n",
      "eval_acc: 0.9990344948652682, AUC: 0.9988085817286556\n",
      "\n",
      "----------------------------------------\n",
      "fold 3, Anomaly Weight: 1\n",
      "eval_acc: 0.9993855337078652, AUC: 0.9931906981418898\n",
      "\n",
      "----------------------------------------\n",
      "fold 4, Anomaly Weight: 1\n",
      "eval_acc: 0.9989466292134831, AUC: 0.8590069004922644\n",
      "\n",
      "----------------------------------------\n",
      "fold 5, Anomaly Weight: 1\n",
      "eval_acc: 0.999122191011236, AUC: 0.9657360229907399\n",
      "\n",
      "----------------------------------------\n",
      "fold 1, Anomaly Weight: 5\n",
      "eval_acc: 0.9989467216712016, AUC: 0.9914305380291385\n",
      "\n",
      "----------------------------------------\n",
      "fold 2, Anomaly Weight: 5\n",
      "eval_acc: 0.9993855876415343, AUC: 0.9989448694275916\n",
      "\n",
      "----------------------------------------\n",
      "fold 3, Anomaly Weight: 5\n",
      "eval_acc: 0.9992099719101124, AUC: 0.9921521330368398\n",
      "\n",
      "----------------------------------------\n",
      "fold 4, Anomaly Weight: 5\n",
      "eval_acc: 0.9988588483146067, AUC: 0.8993659898030942\n",
      "\n",
      "----------------------------------------\n",
      "fold 5, Anomaly Weight: 5\n",
      "eval_acc: 0.9990344101123596, AUC: 0.9595764668860226\n",
      "\n",
      "----------------------------------------\n",
      "fold 1, Anomaly Weight: 10\n",
      "eval_acc: 0.9988589484771351, AUC: 0.9897785935528278\n",
      "\n",
      "----------------------------------------\n",
      "fold 2, Anomaly Weight: 10\n",
      "eval_acc: 0.9995611340296673, AUC: 0.9987558252000351\n",
      "\n",
      "----------------------------------------\n",
      "fold 3, Anomaly Weight: 10\n",
      "eval_acc: 0.9992099719101124, AUC: 0.9918883039980568\n",
      "\n",
      "----------------------------------------\n",
      "fold 4, Anomaly Weight: 10\n",
      "eval_acc: 0.9988588483146067, AUC: 0.9057005977496484\n",
      "\n",
      "----------------------------------------\n",
      "fold 5, Anomaly Weight: 10\n",
      "eval_acc: 0.9989466292134831, AUC: 0.9605205310823881\n",
      "\n",
      "----------------------------------------\n",
      "fold 1, Anomaly Weight: 15\n",
      "eval_acc: 0.9987711752830686, AUC: 0.9863255707238728\n",
      "\n",
      "----------------------------------------\n",
      "fold 2, Anomaly Weight: 15\n",
      "eval_acc: 0.9992100412534012, AUC: 0.9986503121427944\n",
      "\n",
      "----------------------------------------\n",
      "fold 3, Anomaly Weight: 15\n",
      "eval_acc: 0.9989466292134831, AUC: 0.9909167430933327\n",
      "\n",
      "----------------------------------------\n",
      "fold 4, Anomaly Weight: 15\n",
      "eval_acc: 0.9984199438202247, AUC: 0.910474903305204\n",
      "\n",
      "----------------------------------------\n",
      "fold 5, Anomaly Weight: 15\n",
      "eval_acc: 0.9987710674157303, AUC: 0.9612424625266675\n",
      "\n",
      "Averages: \n",
      "Accuracy:  0.9990212749524889\n",
      "AUC:  0.9672126104438036\n",
      "Best: \n",
      "Accuracy:  0.9995611340296673\n",
      "AUC:  0.9989448694275916\n"
     ]
    }
   ],
   "source": [
    "logs = []\n",
    "accuracies = []\n",
    "auc_scores = []\n",
    "\n",
    "for f, weight in enumerate(anomaly_weights):\n",
    "    fold = 1\n",
    "    for train, test in kfold.split(x_validate, y_validate):\n",
    "        class_weights = {0:1, 1: weight}\n",
    "        sk_model = LogisticRegression(\n",
    "            random_state=None,\n",
    "            max_iter=400,\n",
    "            solver='newton-cg',\n",
    "            class_weight=class_weights\n",
    "        ).fit(x_validate[train], y_validate[train])\n",
    "\n",
    "        print(\"\\n\" + \"-\"*40)\n",
    "        print(f\"fold {fold}, Anomaly Weight: {weight}\")\n",
    "\n",
    "        eval_acc = sk_model.score(x_validate[test], y_validate[test])\n",
    "        preds = sk_model.predict(x_validate[test])\n",
    "        probs = sk_model.predict_proba(x_validate[test])[:, 1]\n",
    "\n",
    "        auc_score = roc_auc_score(y_validate[test], probs)\n",
    "\n",
    "        print(f\"eval_acc: {eval_acc}, AUC: {auc_score}\")\n",
    "\n",
    "        accuracies.append(eval_acc)\n",
    "        auc_scores.append(auc_score)\n",
    "        logs.append([sk_model, x_validate[test], y_validate[test], preds])\n",
    "        fold += 1\n",
    "\n",
    "print(\"\\nAverages: \")\n",
    "print(\"Accuracy: \", np.mean(accuracies))\n",
    "print(\"AUC: \", np.mean(auc_scores))\n",
    "print(\"Best: \")\n",
    "print(\"Accuracy: \", np.max(accuracies))\n",
    "print(\"AUC: \", np.max(auc_scores))\n",
    "    "
   ]
  },
  {
   "cell_type": "code",
   "execution_count": null,
   "id": "37b17ec9",
   "metadata": {},
   "outputs": [],
   "source": []
  }
 ],
 "metadata": {
  "kernelspec": {
   "display_name": "Python 3",
   "language": "python",
   "name": "python3"
  },
  "language_info": {
   "codemirror_mode": {
    "name": "ipython",
    "version": 3
   },
   "file_extension": ".py",
   "mimetype": "text/x-python",
   "name": "python",
   "nbconvert_exporter": "python",
   "pygments_lexer": "ipython3",
   "version": "3.13.5"
  }
 },
 "nbformat": 4,
 "nbformat_minor": 5
}
